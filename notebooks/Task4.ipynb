{
 "cells": [
  {
   "cell_type": "markdown",
   "id": "0022fb4f",
   "metadata": {},
   "source": [
    "# SIR Dynamic\n",
    "# Data-Import"
   ]
  },
  {
   "cell_type": "code",
   "execution_count": 12,
   "id": "3a01c257",
   "metadata": {},
   "outputs": [],
   "source": [
    "import pandas as pd\n",
    "import numpy as np\n",
    "from datetime import datetime\n",
    "pd.set_option('display.max_rows',500)\n",
    "\n",
    "%matplotlib inline\n",
    "import matplotlib as mpl\n",
    "import matplotlib.pyplot as plt\n",
    "import seaborn as sns\n",
    "\n",
    "from scipy import optimize\n",
    "from scipy import integrate\n",
    "import plotly\n",
    "\n",
    "import plotly.express as px\n",
    "import plotly.graph_objects as go\n",
    "\n",
    "sns.set(style=\"darkgrid\")\n",
    "\n",
    "mpl.rcParams['figure.figsize'] = (16, 9)\n",
    "pd.set_option('display.max_rows', 500)"
   ]
  },
  {
   "cell_type": "code",
   "execution_count": 13,
   "id": "3bb9a1be",
   "metadata": {},
   "outputs": [],
   "source": [
    "data_path='../data/raw/COVID-19/csse_covid_19_data/csse_covid_19_time_series/time_series_covid19_confirmed_global.csv'\n",
    "pd_raw=pd.read_csv(data_path)\n",
    "\n",
    "time_idx=pd_raw.columns[4:]\n",
    "df_new=pd.DataFrame({'date':time_idx})\n",
    "\n",
    "country=['Germany','India','US']\n",
    "\n",
    "for each in country:\n",
    "    df_new[each]=np.array(pd_raw[pd_raw['Country/Region']==each].iloc[:,4:].sum(axis=0))\n",
    "\n",
    "df_new['date']=df_new.date.astype('datetime64[ns]')\n",
    "\n",
    "df_new.to_csv('../data/processed/small_flat_table.csv',sep=';',index=False)"
   ]
  },
  {
   "cell_type": "code",
   "execution_count": 14,
   "id": "210f0e6c",
   "metadata": {},
   "outputs": [
    {
     "data": {
      "text/html": [
       "<div>\n",
       "<style scoped>\n",
       "    .dataframe tbody tr th:only-of-type {\n",
       "        vertical-align: middle;\n",
       "    }\n",
       "\n",
       "    .dataframe tbody tr th {\n",
       "        vertical-align: top;\n",
       "    }\n",
       "\n",
       "    .dataframe thead th {\n",
       "        text-align: right;\n",
       "    }\n",
       "</style>\n",
       "<table border=\"1\" class=\"dataframe\">\n",
       "  <thead>\n",
       "    <tr style=\"text-align: right;\">\n",
       "      <th></th>\n",
       "      <th>date</th>\n",
       "      <th>Germany</th>\n",
       "      <th>India</th>\n",
       "      <th>US</th>\n",
       "    </tr>\n",
       "  </thead>\n",
       "  <tbody>\n",
       "    <tr>\n",
       "      <th>0</th>\n",
       "      <td>2020-01-22</td>\n",
       "      <td>0</td>\n",
       "      <td>0</td>\n",
       "      <td>1</td>\n",
       "    </tr>\n",
       "    <tr>\n",
       "      <th>1</th>\n",
       "      <td>2020-01-23</td>\n",
       "      <td>0</td>\n",
       "      <td>0</td>\n",
       "      <td>1</td>\n",
       "    </tr>\n",
       "    <tr>\n",
       "      <th>2</th>\n",
       "      <td>2020-01-24</td>\n",
       "      <td>0</td>\n",
       "      <td>0</td>\n",
       "      <td>2</td>\n",
       "    </tr>\n",
       "    <tr>\n",
       "      <th>3</th>\n",
       "      <td>2020-01-25</td>\n",
       "      <td>0</td>\n",
       "      <td>0</td>\n",
       "      <td>2</td>\n",
       "    </tr>\n",
       "    <tr>\n",
       "      <th>4</th>\n",
       "      <td>2020-01-26</td>\n",
       "      <td>0</td>\n",
       "      <td>0</td>\n",
       "      <td>5</td>\n",
       "    </tr>\n",
       "    <tr>\n",
       "      <th>...</th>\n",
       "      <td>...</td>\n",
       "      <td>...</td>\n",
       "      <td>...</td>\n",
       "      <td>...</td>\n",
       "    </tr>\n",
       "    <tr>\n",
       "      <th>882</th>\n",
       "      <td>2022-06-22</td>\n",
       "      <td>27573585</td>\n",
       "      <td>43344958</td>\n",
       "      <td>86636306</td>\n",
       "    </tr>\n",
       "    <tr>\n",
       "      <th>883</th>\n",
       "      <td>2022-06-23</td>\n",
       "      <td>27681775</td>\n",
       "      <td>43362294</td>\n",
       "      <td>86757621</td>\n",
       "    </tr>\n",
       "    <tr>\n",
       "      <th>884</th>\n",
       "      <td>2022-06-24</td>\n",
       "      <td>27771111</td>\n",
       "      <td>43378234</td>\n",
       "      <td>86909716</td>\n",
       "    </tr>\n",
       "    <tr>\n",
       "      <th>885</th>\n",
       "      <td>2022-06-25</td>\n",
       "      <td>27771112</td>\n",
       "      <td>43389973</td>\n",
       "      <td>86949088</td>\n",
       "    </tr>\n",
       "    <tr>\n",
       "      <th>886</th>\n",
       "      <td>2022-06-26</td>\n",
       "      <td>27771911</td>\n",
       "      <td>43407046</td>\n",
       "      <td>86967639</td>\n",
       "    </tr>\n",
       "  </tbody>\n",
       "</table>\n",
       "<p>887 rows × 4 columns</p>\n",
       "</div>"
      ],
      "text/plain": [
       "          date   Germany     India        US\n",
       "0   2020-01-22         0         0         1\n",
       "1   2020-01-23         0         0         1\n",
       "2   2020-01-24         0         0         2\n",
       "3   2020-01-25         0         0         2\n",
       "4   2020-01-26         0         0         5\n",
       "..         ...       ...       ...       ...\n",
       "882 2022-06-22  27573585  43344958  86636306\n",
       "883 2022-06-23  27681775  43362294  86757621\n",
       "884 2022-06-24  27771111  43378234  86909716\n",
       "885 2022-06-25  27771112  43389973  86949088\n",
       "886 2022-06-26  27771911  43407046  86967639\n",
       "\n",
       "[887 rows x 4 columns]"
      ]
     },
     "execution_count": 14,
     "metadata": {},
     "output_type": "execute_result"
    }
   ],
   "source": [
    "df_new"
   ]
  },
  {
   "cell_type": "markdown",
   "id": "c063aa91",
   "metadata": {},
   "source": [
    "# General Functions"
   ]
  },
  {
   "cell_type": "code",
   "execution_count": 15,
   "id": "ea3ce8cb",
   "metadata": {},
   "outputs": [],
   "source": [
    "def SIR_model(SIR,beta,gamma):\n",
    "    ''' Simple SIR model\n",
    "        S: susceptible population\n",
    "        I: infected people\n",
    "        R: recovered people\n",
    "        beta: \n",
    "        \n",
    "        overall condition is that the sum of changes (differnces) sum up to 0\n",
    "        dS+dI+dR=0\n",
    "        S+I+R= N (constant size of population)\n",
    "    \n",
    "    '''\n",
    "    \n",
    "    S,I,R=SIR\n",
    "    dS_dt=-beta*S*I/N0          #S*I is the \n",
    "    dI_dt=beta*S*I/N0-gamma*I\n",
    "    dR_dt=gamma*I\n",
    "    return([dS_dt,dI_dt,dR_dt])"
   ]
  },
  {
   "cell_type": "code",
   "execution_count": 16,
   "id": "8ed6f217",
   "metadata": {},
   "outputs": [],
   "source": [
    "def SIR_model_t(SIR,t,beta,gamma):\n",
    "    ''' Simple SIR model\n",
    "        S: susceptible population\n",
    "        t: time step, mandatory for integral.odeint\n",
    "        I: infected people\n",
    "        R: recovered people\n",
    "        beta: \n",
    "        \n",
    "        overall condition is that the sum of changes (differnces) sum up to 0\n",
    "        dS+dI+dR=0\n",
    "        S+I+R= N (constant size of population)\n",
    "    \n",
    "    '''\n",
    "    \n",
    "    S,I,R=SIR\n",
    "    dS_dt=-beta*S*I/N0          #S*I is the \n",
    "    dI_dt=beta*S*I/N0-gamma*I\n",
    "    dR_dt=gamma*I\n",
    "    return dS_dt,dI_dt,dR_dt"
   ]
  },
  {
   "cell_type": "code",
   "execution_count": 17,
   "id": "d33d14cd",
   "metadata": {},
   "outputs": [],
   "source": [
    "def fit_odeint(x, beta, gamma):\n",
    "    '''\n",
    "    helper function for the integration\n",
    "    '''\n",
    "    return integrate.odeint(SIR_model_t, (S0, I0, R0), t, args=(beta, gamma))[:,1] # we only would like to get dI"
   ]
  },
  {
   "cell_type": "markdown",
   "id": "d09baa7e",
   "metadata": {},
   "source": [
    "# Loop for all country"
   ]
  },
  {
   "cell_type": "code",
   "execution_count": 18,
   "id": "67860036",
   "metadata": {},
   "outputs": [
    {
     "name": "stdout",
     "output_type": "stream",
     "text": [
      "standard deviation errors :  [0.06446861 0.06417829]  start infect: 21\n",
      "Optimal parameters: beta = 2.895624630391725  and gamma =  2.704083694911873\n",
      "Germany:Optimal parameters: beta = 2.895624630391725  and gamma =  2.704083694911873\n",
      "GermanyBasic Reproduction Number R0  1.070833952307121\n",
      "standard deviation errors :  [0.31555997 0.31507069]  start infect: 3\n",
      "Optimal parameters: beta = 25.242838974104203  and gamma =  25.072961041351878\n",
      "India:Optimal parameters: beta = 25.242838974104203  and gamma =  25.072961041351878\n",
      "IndiaBasic Reproduction Number R0  1.0067753438643385\n",
      "standard deviation errors :  [0.06456459 0.06398543]  start infect: 16\n",
      "Optimal parameters: beta = 2.7204589179174734  and gamma =  2.5025612348523687\n",
      "US:Optimal parameters: beta = 2.7204589179174734  and gamma =  2.5025612348523687\n",
      "USBasic Reproduction Number R0  1.0870698706711002\n"
     ]
    },
    {
     "name": "stderr",
     "output_type": "stream",
     "text": [
      "/Users/divyageorge/Desktop/EDS/dsVenv/lib/python3.10/site-packages/scipy/integrate/_odepack_py.py:247: ODEintWarning:\n",
      "\n",
      "Excess work done on this call (perhaps wrong Dfun type). Run with full_output = 1 to get quantitative information.\n",
      "\n",
      "/Users/divyageorge/Desktop/EDS/dsVenv/lib/python3.10/site-packages/scipy/integrate/_odepack_py.py:247: ODEintWarning:\n",
      "\n",
      "Excess work done on this call (perhaps wrong Dfun type). Run with full_output = 1 to get quantitative information.\n",
      "\n",
      "/Users/divyageorge/Desktop/EDS/dsVenv/lib/python3.10/site-packages/scipy/integrate/_odepack_py.py:247: ODEintWarning:\n",
      "\n",
      "Excess work done on this call (perhaps wrong Dfun type). Run with full_output = 1 to get quantitative information.\n",
      "\n",
      "/var/folders/bb/sxklxk8d70q3cllgcdhrysd80000gn/T/ipykernel_35007/649699423.py:16: RuntimeWarning:\n",
      "\n",
      "overflow encountered in double_scalars\n",
      "\n",
      "/var/folders/bb/sxklxk8d70q3cllgcdhrysd80000gn/T/ipykernel_35007/649699423.py:17: RuntimeWarning:\n",
      "\n",
      "overflow encountered in double_scalars\n",
      "\n",
      "/var/folders/bb/sxklxk8d70q3cllgcdhrysd80000gn/T/ipykernel_35007/649699423.py:18: RuntimeWarning:\n",
      "\n",
      "overflow encountered in double_scalars\n",
      "\n"
     ]
    }
   ],
   "source": [
    "ydata = np.array(df_new['Germany'][35:100])\n",
    "t=np.arange(len(ydata))\n",
    "x=np.linspace(1,len(ydata),len(ydata))\n",
    "df_plot=pd.DataFrame({'day':np.array(x)})\n",
    "\n",
    "for each in country: \n",
    "    \n",
    "    if each=='Germany':\n",
    "        N0=80000000 #max susceptible population\n",
    "    elif each=='India':\n",
    "        N0=1380000000\n",
    "    else:\n",
    "        N0=329000000\n",
    "        \n",
    "    beta=0.4   # infection spread dynamics\n",
    "    gamma=0.1\n",
    "    \n",
    "    I0=df_new[each][35]\n",
    "    S0=N0-I0\n",
    "    R0=0\n",
    "    \n",
    "    ydata = np.array(df_new[each][35:100])\n",
    "    t=np.arange(len(ydata))\n",
    "    \n",
    "    # example curve of our differential equationa\n",
    "    popt=[beta,gamma]\n",
    "    fit_odeint(t, *popt);\n",
    "    \n",
    "    popt, pcov = optimize.curve_fit(fit_odeint, t, ydata)\n",
    "    perr = np.sqrt(np.diag(pcov))\n",
    "    \n",
    "    print('standard deviation errors : ',str(perr), ' start infect:',ydata[0])\n",
    "    print(\"Optimal parameters: beta =\", popt[0], \" and gamma = \", popt[1])\n",
    "    \n",
    "    # get the final fitted curve\n",
    "    fitted=fit_odeint(t, *popt)\n",
    "    len(fitted)\n",
    "    x=np.linspace(1,len(fitted),len(fitted))\n",
    "    #df_plot=pd.DataFrame({'day':np.array(x)})\n",
    "    new={each+'_fit':np.array(fitted),\n",
    "         each+'_case':np.array(df_new[each][35:100])\n",
    "        }\n",
    "    pd_new=pd.DataFrame(new)\n",
    "    df_plot=pd.concat([df_plot,pd_new],axis=1)\n",
    "    print(each+\":Optimal parameters: beta =\", popt[0], \" and gamma = \", popt[1])\n",
    "    print(each+\"Basic Reproduction Number R0 \" , popt[0]/ popt[1])"
   ]
  },
  {
   "cell_type": "code",
   "execution_count": 19,
   "id": "0fd04bb5",
   "metadata": {},
   "outputs": [
    {
     "data": {
      "text/html": [
       "<div>\n",
       "<style scoped>\n",
       "    .dataframe tbody tr th:only-of-type {\n",
       "        vertical-align: middle;\n",
       "    }\n",
       "\n",
       "    .dataframe tbody tr th {\n",
       "        vertical-align: top;\n",
       "    }\n",
       "\n",
       "    .dataframe thead th {\n",
       "        text-align: right;\n",
       "    }\n",
       "</style>\n",
       "<table border=\"1\" class=\"dataframe\">\n",
       "  <thead>\n",
       "    <tr style=\"text-align: right;\">\n",
       "      <th></th>\n",
       "      <th>day</th>\n",
       "      <th>Germany_fit</th>\n",
       "      <th>Germany_case</th>\n",
       "      <th>India_fit</th>\n",
       "      <th>India_case</th>\n",
       "      <th>US_fit</th>\n",
       "      <th>US_case</th>\n",
       "    </tr>\n",
       "  </thead>\n",
       "  <tbody>\n",
       "    <tr>\n",
       "      <th>0</th>\n",
       "      <td>1.0</td>\n",
       "      <td>21.000000</td>\n",
       "      <td>21</td>\n",
       "      <td>3.000000</td>\n",
       "      <td>3</td>\n",
       "      <td>1.600000e+01</td>\n",
       "      <td>16</td>\n",
       "    </tr>\n",
       "    <tr>\n",
       "      <th>1</th>\n",
       "      <td>2.0</td>\n",
       "      <td>25.433353</td>\n",
       "      <td>26</td>\n",
       "      <td>3.555478</td>\n",
       "      <td>3</td>\n",
       "      <td>1.989535e+01</td>\n",
       "      <td>17</td>\n",
       "    </tr>\n",
       "    <tr>\n",
       "      <th>2</th>\n",
       "      <td>3.0</td>\n",
       "      <td>30.802559</td>\n",
       "      <td>53</td>\n",
       "      <td>4.213800</td>\n",
       "      <td>3</td>\n",
       "      <td>2.473905e+01</td>\n",
       "      <td>17</td>\n",
       "    </tr>\n",
       "    <tr>\n",
       "      <th>3</th>\n",
       "      <td>4.0</td>\n",
       "      <td>37.305131</td>\n",
       "      <td>66</td>\n",
       "      <td>4.994006</td>\n",
       "      <td>3</td>\n",
       "      <td>3.076197e+01</td>\n",
       "      <td>25</td>\n",
       "    </tr>\n",
       "    <tr>\n",
       "      <th>4</th>\n",
       "      <td>5.0</td>\n",
       "      <td>45.180249</td>\n",
       "      <td>117</td>\n",
       "      <td>5.918658</td>\n",
       "      <td>3</td>\n",
       "      <td>3.825120e+01</td>\n",
       "      <td>32</td>\n",
       "    </tr>\n",
       "    <tr>\n",
       "      <th>5</th>\n",
       "      <td>6.0</td>\n",
       "      <td>54.717547</td>\n",
       "      <td>150</td>\n",
       "      <td>7.014491</td>\n",
       "      <td>5</td>\n",
       "      <td>4.756370e+01</td>\n",
       "      <td>55</td>\n",
       "    </tr>\n",
       "    <tr>\n",
       "      <th>6</th>\n",
       "      <td>7.0</td>\n",
       "      <td>66.267735</td>\n",
       "      <td>188</td>\n",
       "      <td>8.313191</td>\n",
       "      <td>5</td>\n",
       "      <td>5.914331e+01</td>\n",
       "      <td>74</td>\n",
       "    </tr>\n",
       "    <tr>\n",
       "      <th>7</th>\n",
       "      <td>8.0</td>\n",
       "      <td>80.255462</td>\n",
       "      <td>240</td>\n",
       "      <td>9.852300</td>\n",
       "      <td>28</td>\n",
       "      <td>7.354194e+01</td>\n",
       "      <td>107</td>\n",
       "    </tr>\n",
       "    <tr>\n",
       "      <th>8</th>\n",
       "      <td>9.0</td>\n",
       "      <td>97.194884</td>\n",
       "      <td>349</td>\n",
       "      <td>11.676307</td>\n",
       "      <td>30</td>\n",
       "      <td>9.144581e+01</td>\n",
       "      <td>184</td>\n",
       "    </tr>\n",
       "    <tr>\n",
       "      <th>9</th>\n",
       "      <td>10.0</td>\n",
       "      <td>117.708488</td>\n",
       "      <td>534</td>\n",
       "      <td>13.837927</td>\n",
       "      <td>31</td>\n",
       "      <td>1.137082e+02</td>\n",
       "      <td>237</td>\n",
       "    </tr>\n",
       "    <tr>\n",
       "      <th>10</th>\n",
       "      <td>11.0</td>\n",
       "      <td>142.549854</td>\n",
       "      <td>684</td>\n",
       "      <td>16.399620</td>\n",
       "      <td>34</td>\n",
       "      <td>1.413899e+02</td>\n",
       "      <td>403</td>\n",
       "    </tr>\n",
       "    <tr>\n",
       "      <th>11</th>\n",
       "      <td>12.0</td>\n",
       "      <td>172.631192</td>\n",
       "      <td>847</td>\n",
       "      <td>19.435390</td>\n",
       "      <td>39</td>\n",
       "      <td>1.758101e+02</td>\n",
       "      <td>519</td>\n",
       "    </tr>\n",
       "    <tr>\n",
       "      <th>12</th>\n",
       "      <td>13.0</td>\n",
       "      <td>209.056598</td>\n",
       "      <td>1112</td>\n",
       "      <td>23.032911</td>\n",
       "      <td>43</td>\n",
       "      <td>2.186087e+02</td>\n",
       "      <td>594</td>\n",
       "    </tr>\n",
       "    <tr>\n",
       "      <th>13</th>\n",
       "      <td>14.0</td>\n",
       "      <td>253.162248</td>\n",
       "      <td>1296</td>\n",
       "      <td>27.296047</td>\n",
       "      <td>56</td>\n",
       "      <td>2.718246e+02</td>\n",
       "      <td>782</td>\n",
       "    </tr>\n",
       "    <tr>\n",
       "      <th>14</th>\n",
       "      <td>15.0</td>\n",
       "      <td>306.564915</td>\n",
       "      <td>1567</td>\n",
       "      <td>32.347833</td>\n",
       "      <td>62</td>\n",
       "      <td>3.379929e+02</td>\n",
       "      <td>1147</td>\n",
       "    </tr>\n",
       "    <tr>\n",
       "      <th>15</th>\n",
       "      <td>16.0</td>\n",
       "      <td>371.220508</td>\n",
       "      <td>2369</td>\n",
       "      <td>38.333999</td>\n",
       "      <td>73</td>\n",
       "      <td>4.202649e+02</td>\n",
       "      <td>1586</td>\n",
       "    </tr>\n",
       "    <tr>\n",
       "      <th>16</th>\n",
       "      <td>17.0</td>\n",
       "      <td>449.494648</td>\n",
       "      <td>3062</td>\n",
       "      <td>45.427137</td>\n",
       "      <td>82</td>\n",
       "      <td>5.225580e+02</td>\n",
       "      <td>2219</td>\n",
       "    </tr>\n",
       "    <tr>\n",
       "      <th>17</th>\n",
       "      <td>18.0</td>\n",
       "      <td>544.247657</td>\n",
       "      <td>3795</td>\n",
       "      <td>53.831622</td>\n",
       "      <td>102</td>\n",
       "      <td>6.497417e+02</td>\n",
       "      <td>2978</td>\n",
       "    </tr>\n",
       "    <tr>\n",
       "      <th>18</th>\n",
       "      <td>19.0</td>\n",
       "      <td>658.936803</td>\n",
       "      <td>4838</td>\n",
       "      <td>63.789434</td>\n",
       "      <td>113</td>\n",
       "      <td>8.078684e+02</td>\n",
       "      <td>3212</td>\n",
       "    </tr>\n",
       "    <tr>\n",
       "      <th>19</th>\n",
       "      <td>20.0</td>\n",
       "      <td>797.739103</td>\n",
       "      <td>6012</td>\n",
       "      <td>75.587017</td>\n",
       "      <td>119</td>\n",
       "      <td>1.004460e+03</td>\n",
       "      <td>4679</td>\n",
       "    </tr>\n",
       "    <tr>\n",
       "      <th>20</th>\n",
       "      <td>21.0</td>\n",
       "      <td>965.698553</td>\n",
       "      <td>7156</td>\n",
       "      <td>89.563380</td>\n",
       "      <td>142</td>\n",
       "      <td>1.248863e+03</td>\n",
       "      <td>6512</td>\n",
       "    </tr>\n",
       "    <tr>\n",
       "      <th>21</th>\n",
       "      <td>22.0</td>\n",
       "      <td>1168.902260</td>\n",
       "      <td>8198</td>\n",
       "      <td>106.119632</td>\n",
       "      <td>156</td>\n",
       "      <td>1.552689e+03</td>\n",
       "      <td>9169</td>\n",
       "    </tr>\n",
       "    <tr>\n",
       "      <th>22</th>\n",
       "      <td>23.0</td>\n",
       "      <td>1414.690574</td>\n",
       "      <td>10999</td>\n",
       "      <td>125.730217</td>\n",
       "      <td>194</td>\n",
       "      <td>1.930364e+03</td>\n",
       "      <td>13663</td>\n",
       "    </tr>\n",
       "    <tr>\n",
       "      <th>23</th>\n",
       "      <td>24.0</td>\n",
       "      <td>1711.906935</td>\n",
       "      <td>13957</td>\n",
       "      <td>148.956111</td>\n",
       "      <td>244</td>\n",
       "      <td>2.399799e+03</td>\n",
       "      <td>20030</td>\n",
       "    </tr>\n",
       "    <tr>\n",
       "      <th>24</th>\n",
       "      <td>25.0</td>\n",
       "      <td>2071.193674</td>\n",
       "      <td>16662</td>\n",
       "      <td>176.460311</td>\n",
       "      <td>330</td>\n",
       "      <td>2.983231e+03</td>\n",
       "      <td>26025</td>\n",
       "    </tr>\n",
       "    <tr>\n",
       "      <th>25</th>\n",
       "      <td>26.0</td>\n",
       "      <td>2505.340441</td>\n",
       "      <td>18610</td>\n",
       "      <td>209.025989</td>\n",
       "      <td>396</td>\n",
       "      <td>3.708257e+03</td>\n",
       "      <td>34944</td>\n",
       "    </tr>\n",
       "    <tr>\n",
       "      <th>26</th>\n",
       "      <td>27.0</td>\n",
       "      <td>3029.691874</td>\n",
       "      <td>22672</td>\n",
       "      <td>247.577697</td>\n",
       "      <td>499</td>\n",
       "      <td>4.609103e+03</td>\n",
       "      <td>46096</td>\n",
       "    </tr>\n",
       "    <tr>\n",
       "      <th>27</th>\n",
       "      <td>28.0</td>\n",
       "      <td>3662.620651</td>\n",
       "      <td>27436</td>\n",
       "      <td>293.206090</td>\n",
       "      <td>536</td>\n",
       "      <td>5.728194e+03</td>\n",
       "      <td>56714</td>\n",
       "    </tr>\n",
       "    <tr>\n",
       "      <th>28</th>\n",
       "      <td>29.0</td>\n",
       "      <td>4426.070490</td>\n",
       "      <td>31554</td>\n",
       "      <td>347.196645</td>\n",
       "      <td>657</td>\n",
       "      <td>7.118080e+03</td>\n",
       "      <td>68841</td>\n",
       "    </tr>\n",
       "    <tr>\n",
       "      <th>29</th>\n",
       "      <td>30.0</td>\n",
       "      <td>5346.170758</td>\n",
       "      <td>36508</td>\n",
       "      <td>411.062886</td>\n",
       "      <td>727</td>\n",
       "      <td>8.843786e+03</td>\n",
       "      <td>86662</td>\n",
       "    </tr>\n",
       "    <tr>\n",
       "      <th>30</th>\n",
       "      <td>31.0</td>\n",
       "      <td>6453.919145</td>\n",
       "      <td>42288</td>\n",
       "      <td>486.584636</td>\n",
       "      <td>887</td>\n",
       "      <td>1.098568e+04</td>\n",
       "      <td>105253</td>\n",
       "    </tr>\n",
       "    <tr>\n",
       "      <th>31</th>\n",
       "      <td>32.0</td>\n",
       "      <td>7785.920467</td>\n",
       "      <td>48582</td>\n",
       "      <td>575.851785</td>\n",
       "      <td>987</td>\n",
       "      <td>1.364294e+04</td>\n",
       "      <td>127417</td>\n",
       "    </tr>\n",
       "    <tr>\n",
       "      <th>32</th>\n",
       "      <td>33.0</td>\n",
       "      <td>9385.156742</td>\n",
       "      <td>52547</td>\n",
       "      <td>681.313986</td>\n",
       "      <td>1024</td>\n",
       "      <td>1.693772e+04</td>\n",
       "      <td>143544</td>\n",
       "    </tr>\n",
       "    <tr>\n",
       "      <th>33</th>\n",
       "      <td>34.0</td>\n",
       "      <td>11301.744375</td>\n",
       "      <td>57298</td>\n",
       "      <td>805.836543</td>\n",
       "      <td>1251</td>\n",
       "      <td>2.102017e+04</td>\n",
       "      <td>165698</td>\n",
       "    </tr>\n",
       "    <tr>\n",
       "      <th>34</th>\n",
       "      <td>35.0</td>\n",
       "      <td>13593.606914</td>\n",
       "      <td>61913</td>\n",
       "      <td>952.762502</td>\n",
       "      <td>1397</td>\n",
       "      <td>2.607423e+04</td>\n",
       "      <td>192079</td>\n",
       "    </tr>\n",
       "    <tr>\n",
       "      <th>35</th>\n",
       "      <td>36.0</td>\n",
       "      <td>16326.953242</td>\n",
       "      <td>67366</td>\n",
       "      <td>1125.980522</td>\n",
       "      <td>1998</td>\n",
       "      <td>3.232446e+04</td>\n",
       "      <td>223254</td>\n",
       "    </tr>\n",
       "    <tr>\n",
       "      <th>36</th>\n",
       "      <td>37.0</td>\n",
       "      <td>19576.400460</td>\n",
       "      <td>73522</td>\n",
       "      <td>1329.997482</td>\n",
       "      <td>2543</td>\n",
       "      <td>4.004373e+04</td>\n",
       "      <td>255530</td>\n",
       "    </tr>\n",
       "    <tr>\n",
       "      <th>37</th>\n",
       "      <td>38.0</td>\n",
       "      <td>23424.515341</td>\n",
       "      <td>79696</td>\n",
       "      <td>1570.013880</td>\n",
       "      <td>2567</td>\n",
       "      <td>4.956164e+04</td>\n",
       "      <td>287931</td>\n",
       "    </tr>\n",
       "    <tr>\n",
       "      <th>38</th>\n",
       "      <td>39.0</td>\n",
       "      <td>27960.470724</td>\n",
       "      <td>85778</td>\n",
       "      <td>1851.998721</td>\n",
       "      <td>3082</td>\n",
       "      <td>6.127337e+04</td>\n",
       "      <td>319776</td>\n",
       "    </tr>\n",
       "    <tr>\n",
       "      <th>39</th>\n",
       "      <td>40.0</td>\n",
       "      <td>33277.428098</td>\n",
       "      <td>91714</td>\n",
       "      <td>2182.758815</td>\n",
       "      <td>3588</td>\n",
       "      <td>7.564819e+04</td>\n",
       "      <td>349016</td>\n",
       "    </tr>\n",
       "    <tr>\n",
       "      <th>40</th>\n",
       "      <td>41.0</td>\n",
       "      <td>39468.179370</td>\n",
       "      <td>95391</td>\n",
       "      <td>2569.994956</td>\n",
       "      <td>4778</td>\n",
       "      <td>9.323647e+04</td>\n",
       "      <td>380798</td>\n",
       "    </tr>\n",
       "    <tr>\n",
       "      <th>41</th>\n",
       "      <td>42.0</td>\n",
       "      <td>46618.534693</td>\n",
       "      <td>99225</td>\n",
       "      <td>3022.334210</td>\n",
       "      <td>5311</td>\n",
       "      <td>1.146733e+05</td>\n",
       "      <td>410834</td>\n",
       "    </tr>\n",
       "    <tr>\n",
       "      <th>42</th>\n",
       "      <td>43.0</td>\n",
       "      <td>54797.971912</td>\n",
       "      <td>103228</td>\n",
       "      <td>3549.323530</td>\n",
       "      <td>5916</td>\n",
       "      <td>1.406760e+05</td>\n",
       "      <td>441897</td>\n",
       "    </tr>\n",
       "    <tr>\n",
       "      <th>43</th>\n",
       "      <td>44.0</td>\n",
       "      <td>64047.225690</td>\n",
       "      <td>108202</td>\n",
       "      <td>4161.364919</td>\n",
       "      <td>6725</td>\n",
       "      <td>1.720310e+05</td>\n",
       "      <td>477507</td>\n",
       "    </tr>\n",
       "    <tr>\n",
       "      <th>44</th>\n",
       "      <td>45.0</td>\n",
       "      <td>74362.866744</td>\n",
       "      <td>113525</td>\n",
       "      <td>4869.566670</td>\n",
       "      <td>7598</td>\n",
       "      <td>2.095653e+05</td>\n",
       "      <td>511790</td>\n",
       "    </tr>\n",
       "    <tr>\n",
       "      <th>45</th>\n",
       "      <td>46.0</td>\n",
       "      <td>85679.572495</td>\n",
       "      <td>117658</td>\n",
       "      <td>5685.479125</td>\n",
       "      <td>8446</td>\n",
       "      <td>2.540951e+05</td>\n",
       "      <td>540714</td>\n",
       "    </tr>\n",
       "    <tr>\n",
       "      <th>46</th>\n",
       "      <td>47.0</td>\n",
       "      <td>97851.749017</td>\n",
       "      <td>120479</td>\n",
       "      <td>6620.677783</td>\n",
       "      <td>9205</td>\n",
       "      <td>3.063445e+05</td>\n",
       "      <td>567022</td>\n",
       "    </tr>\n",
       "    <tr>\n",
       "      <th>47</th>\n",
       "      <td>48.0</td>\n",
       "      <td>110637.360176</td>\n",
       "      <td>123016</td>\n",
       "      <td>7686.152821</td>\n",
       "      <td>10453</td>\n",
       "      <td>3.668280e+05</td>\n",
       "      <td>594165</td>\n",
       "    </tr>\n",
       "    <tr>\n",
       "      <th>48</th>\n",
       "      <td>49.0</td>\n",
       "      <td>123688.021277</td>\n",
       "      <td>125098</td>\n",
       "      <td>8891.464565</td>\n",
       "      <td>11487</td>\n",
       "      <td>4.356919e+05</td>\n",
       "      <td>622493</td>\n",
       "    </tr>\n",
       "    <tr>\n",
       "      <th>49</th>\n",
       "      <td>50.0</td>\n",
       "      <td>136550.168947</td>\n",
       "      <td>127584</td>\n",
       "      <td>10243.632239</td>\n",
       "      <td>12322</td>\n",
       "      <td>5.125227e+05</td>\n",
       "      <td>648390</td>\n",
       "    </tr>\n",
       "    <tr>\n",
       "      <th>50</th>\n",
       "      <td>51.0</td>\n",
       "      <td>148681.840852</td>\n",
       "      <td>130450</td>\n",
       "      <td>11745.742683</td>\n",
       "      <td>13430</td>\n",
       "      <td>5.961382e+05</td>\n",
       "      <td>678028</td>\n",
       "    </tr>\n",
       "    <tr>\n",
       "      <th>51</th>\n",
       "      <td>52.0</td>\n",
       "      <td>159487.728520</td>\n",
       "      <td>133830</td>\n",
       "      <td>13395.300960</td>\n",
       "      <td>14352</td>\n",
       "      <td>6.844007e+05</td>\n",
       "      <td>711135</td>\n",
       "    </tr>\n",
       "    <tr>\n",
       "      <th>52</th>\n",
       "      <td>53.0</td>\n",
       "      <td>168371.524488</td>\n",
       "      <td>137439</td>\n",
       "      <td>15182.399712</td>\n",
       "      <td>15722</td>\n",
       "      <td>7.741077e+05</td>\n",
       "      <td>738464</td>\n",
       "    </tr>\n",
       "    <tr>\n",
       "      <th>53</th>\n",
       "      <td>54.0</td>\n",
       "      <td>174799.770788</td>\n",
       "      <td>139897</td>\n",
       "      <td>17087.859121</td>\n",
       "      <td>17615</td>\n",
       "      <td>8.610312e+05</td>\n",
       "      <td>763886</td>\n",
       "    </tr>\n",
       "    <tr>\n",
       "      <th>54</th>\n",
       "      <td>55.0</td>\n",
       "      <td>178366.835069</td>\n",
       "      <td>141672</td>\n",
       "      <td>19081.579217</td>\n",
       "      <td>18539</td>\n",
       "      <td>9.401657e+05</td>\n",
       "      <td>793970</td>\n",
       "    </tr>\n",
       "    <tr>\n",
       "      <th>55</th>\n",
       "      <td>56.0</td>\n",
       "      <td>178848.198552</td>\n",
       "      <td>143457</td>\n",
       "      <td>21121.436145</td>\n",
       "      <td>20080</td>\n",
       "      <td>1.006209e+06</td>\n",
       "      <td>820045</td>\n",
       "    </tr>\n",
       "    <tr>\n",
       "      <th>56</th>\n",
       "      <td>57.0</td>\n",
       "      <td>176230.359213</td>\n",
       "      <td>145694</td>\n",
       "      <td>23153.118060</td>\n",
       "      <td>21370</td>\n",
       "      <td>1.054233e+06</td>\n",
       "      <td>849926</td>\n",
       "    </tr>\n",
       "    <tr>\n",
       "      <th>57</th>\n",
       "      <td>58.0</td>\n",
       "      <td>170710.635683</td>\n",
       "      <td>148046</td>\n",
       "      <td>25111.298538</td>\n",
       "      <td>23077</td>\n",
       "      <td>1.080420e+06</td>\n",
       "      <td>881891</td>\n",
       "    </tr>\n",
       "    <tr>\n",
       "      <th>58</th>\n",
       "      <td>59.0</td>\n",
       "      <td>162667.298884</td>\n",
       "      <td>150383</td>\n",
       "      <td>26922.449478</td>\n",
       "      <td>24530</td>\n",
       "      <td>1.082694e+06</td>\n",
       "      <td>913856</td>\n",
       "    </tr>\n",
       "    <tr>\n",
       "      <th>59</th>\n",
       "      <td>60.0</td>\n",
       "      <td>152607.421621</td>\n",
       "      <td>152438</td>\n",
       "      <td>28509.374516</td>\n",
       "      <td>26283</td>\n",
       "      <td>1.061064e+06</td>\n",
       "      <td>944770</td>\n",
       "    </tr>\n",
       "    <tr>\n",
       "      <th>60</th>\n",
       "      <td>61.0</td>\n",
       "      <td>141104.085706</td>\n",
       "      <td>154175</td>\n",
       "      <td>29797.222107</td>\n",
       "      <td>27890</td>\n",
       "      <td>1.017598e+06</td>\n",
       "      <td>970741</td>\n",
       "    </tr>\n",
       "    <tr>\n",
       "      <th>61</th>\n",
       "      <td>62.0</td>\n",
       "      <td>128735.133927</td>\n",
       "      <td>155193</td>\n",
       "      <td>30720.342814</td>\n",
       "      <td>29451</td>\n",
       "      <td>9.560238e+05</td>\n",
       "      <td>995391</td>\n",
       "    </tr>\n",
       "    <tr>\n",
       "      <th>62</th>\n",
       "      <td>63.0</td>\n",
       "      <td>116032.957724</td>\n",
       "      <td>156337</td>\n",
       "      <td>31229.037298</td>\n",
       "      <td>31324</td>\n",
       "      <td>8.811020e+05</td>\n",
       "      <td>1019964</td>\n",
       "    </tr>\n",
       "    <tr>\n",
       "      <th>63</th>\n",
       "      <td>64.0</td>\n",
       "      <td>103450.427189</td>\n",
       "      <td>157641</td>\n",
       "      <td>31295.072622</td>\n",
       "      <td>33062</td>\n",
       "      <td>7.979152e+05</td>\n",
       "      <td>1046816</td>\n",
       "    </tr>\n",
       "    <tr>\n",
       "      <th>64</th>\n",
       "      <td>65.0</td>\n",
       "      <td>91343.706955</td>\n",
       "      <td>159119</td>\n",
       "      <td>30914.954383</td>\n",
       "      <td>34863</td>\n",
       "      <td>7.112550e+05</td>\n",
       "      <td>1076518</td>\n",
       "    </tr>\n",
       "  </tbody>\n",
       "</table>\n",
       "</div>"
      ],
      "text/plain": [
       "     day    Germany_fit  Germany_case     India_fit  India_case        US_fit  \\\n",
       "0    1.0      21.000000            21      3.000000           3  1.600000e+01   \n",
       "1    2.0      25.433353            26      3.555478           3  1.989535e+01   \n",
       "2    3.0      30.802559            53      4.213800           3  2.473905e+01   \n",
       "3    4.0      37.305131            66      4.994006           3  3.076197e+01   \n",
       "4    5.0      45.180249           117      5.918658           3  3.825120e+01   \n",
       "5    6.0      54.717547           150      7.014491           5  4.756370e+01   \n",
       "6    7.0      66.267735           188      8.313191           5  5.914331e+01   \n",
       "7    8.0      80.255462           240      9.852300          28  7.354194e+01   \n",
       "8    9.0      97.194884           349     11.676307          30  9.144581e+01   \n",
       "9   10.0     117.708488           534     13.837927          31  1.137082e+02   \n",
       "10  11.0     142.549854           684     16.399620          34  1.413899e+02   \n",
       "11  12.0     172.631192           847     19.435390          39  1.758101e+02   \n",
       "12  13.0     209.056598          1112     23.032911          43  2.186087e+02   \n",
       "13  14.0     253.162248          1296     27.296047          56  2.718246e+02   \n",
       "14  15.0     306.564915          1567     32.347833          62  3.379929e+02   \n",
       "15  16.0     371.220508          2369     38.333999          73  4.202649e+02   \n",
       "16  17.0     449.494648          3062     45.427137          82  5.225580e+02   \n",
       "17  18.0     544.247657          3795     53.831622         102  6.497417e+02   \n",
       "18  19.0     658.936803          4838     63.789434         113  8.078684e+02   \n",
       "19  20.0     797.739103          6012     75.587017         119  1.004460e+03   \n",
       "20  21.0     965.698553          7156     89.563380         142  1.248863e+03   \n",
       "21  22.0    1168.902260          8198    106.119632         156  1.552689e+03   \n",
       "22  23.0    1414.690574         10999    125.730217         194  1.930364e+03   \n",
       "23  24.0    1711.906935         13957    148.956111         244  2.399799e+03   \n",
       "24  25.0    2071.193674         16662    176.460311         330  2.983231e+03   \n",
       "25  26.0    2505.340441         18610    209.025989         396  3.708257e+03   \n",
       "26  27.0    3029.691874         22672    247.577697         499  4.609103e+03   \n",
       "27  28.0    3662.620651         27436    293.206090         536  5.728194e+03   \n",
       "28  29.0    4426.070490         31554    347.196645         657  7.118080e+03   \n",
       "29  30.0    5346.170758         36508    411.062886         727  8.843786e+03   \n",
       "30  31.0    6453.919145         42288    486.584636         887  1.098568e+04   \n",
       "31  32.0    7785.920467         48582    575.851785         987  1.364294e+04   \n",
       "32  33.0    9385.156742         52547    681.313986        1024  1.693772e+04   \n",
       "33  34.0   11301.744375         57298    805.836543        1251  2.102017e+04   \n",
       "34  35.0   13593.606914         61913    952.762502        1397  2.607423e+04   \n",
       "35  36.0   16326.953242         67366   1125.980522        1998  3.232446e+04   \n",
       "36  37.0   19576.400460         73522   1329.997482        2543  4.004373e+04   \n",
       "37  38.0   23424.515341         79696   1570.013880        2567  4.956164e+04   \n",
       "38  39.0   27960.470724         85778   1851.998721        3082  6.127337e+04   \n",
       "39  40.0   33277.428098         91714   2182.758815        3588  7.564819e+04   \n",
       "40  41.0   39468.179370         95391   2569.994956        4778  9.323647e+04   \n",
       "41  42.0   46618.534693         99225   3022.334210        5311  1.146733e+05   \n",
       "42  43.0   54797.971912        103228   3549.323530        5916  1.406760e+05   \n",
       "43  44.0   64047.225690        108202   4161.364919        6725  1.720310e+05   \n",
       "44  45.0   74362.866744        113525   4869.566670        7598  2.095653e+05   \n",
       "45  46.0   85679.572495        117658   5685.479125        8446  2.540951e+05   \n",
       "46  47.0   97851.749017        120479   6620.677783        9205  3.063445e+05   \n",
       "47  48.0  110637.360176        123016   7686.152821       10453  3.668280e+05   \n",
       "48  49.0  123688.021277        125098   8891.464565       11487  4.356919e+05   \n",
       "49  50.0  136550.168947        127584  10243.632239       12322  5.125227e+05   \n",
       "50  51.0  148681.840852        130450  11745.742683       13430  5.961382e+05   \n",
       "51  52.0  159487.728520        133830  13395.300960       14352  6.844007e+05   \n",
       "52  53.0  168371.524488        137439  15182.399712       15722  7.741077e+05   \n",
       "53  54.0  174799.770788        139897  17087.859121       17615  8.610312e+05   \n",
       "54  55.0  178366.835069        141672  19081.579217       18539  9.401657e+05   \n",
       "55  56.0  178848.198552        143457  21121.436145       20080  1.006209e+06   \n",
       "56  57.0  176230.359213        145694  23153.118060       21370  1.054233e+06   \n",
       "57  58.0  170710.635683        148046  25111.298538       23077  1.080420e+06   \n",
       "58  59.0  162667.298884        150383  26922.449478       24530  1.082694e+06   \n",
       "59  60.0  152607.421621        152438  28509.374516       26283  1.061064e+06   \n",
       "60  61.0  141104.085706        154175  29797.222107       27890  1.017598e+06   \n",
       "61  62.0  128735.133927        155193  30720.342814       29451  9.560238e+05   \n",
       "62  63.0  116032.957724        156337  31229.037298       31324  8.811020e+05   \n",
       "63  64.0  103450.427189        157641  31295.072622       33062  7.979152e+05   \n",
       "64  65.0   91343.706955        159119  30914.954383       34863  7.112550e+05   \n",
       "\n",
       "    US_case  \n",
       "0        16  \n",
       "1        17  \n",
       "2        17  \n",
       "3        25  \n",
       "4        32  \n",
       "5        55  \n",
       "6        74  \n",
       "7       107  \n",
       "8       184  \n",
       "9       237  \n",
       "10      403  \n",
       "11      519  \n",
       "12      594  \n",
       "13      782  \n",
       "14     1147  \n",
       "15     1586  \n",
       "16     2219  \n",
       "17     2978  \n",
       "18     3212  \n",
       "19     4679  \n",
       "20     6512  \n",
       "21     9169  \n",
       "22    13663  \n",
       "23    20030  \n",
       "24    26025  \n",
       "25    34944  \n",
       "26    46096  \n",
       "27    56714  \n",
       "28    68841  \n",
       "29    86662  \n",
       "30   105253  \n",
       "31   127417  \n",
       "32   143544  \n",
       "33   165698  \n",
       "34   192079  \n",
       "35   223254  \n",
       "36   255530  \n",
       "37   287931  \n",
       "38   319776  \n",
       "39   349016  \n",
       "40   380798  \n",
       "41   410834  \n",
       "42   441897  \n",
       "43   477507  \n",
       "44   511790  \n",
       "45   540714  \n",
       "46   567022  \n",
       "47   594165  \n",
       "48   622493  \n",
       "49   648390  \n",
       "50   678028  \n",
       "51   711135  \n",
       "52   738464  \n",
       "53   763886  \n",
       "54   793970  \n",
       "55   820045  \n",
       "56   849926  \n",
       "57   881891  \n",
       "58   913856  \n",
       "59   944770  \n",
       "60   970741  \n",
       "61   995391  \n",
       "62  1019964  \n",
       "63  1046816  \n",
       "64  1076518  "
      ]
     },
     "execution_count": 19,
     "metadata": {},
     "output_type": "execute_result"
    }
   ],
   "source": [
    "df_plot"
   ]
  },
  {
   "cell_type": "markdown",
   "id": "0198358b",
   "metadata": {},
   "source": [
    "# Visualization"
   ]
  },
  {
   "cell_type": "code",
   "execution_count": 20,
   "id": "9822d125",
   "metadata": {
    "scrolled": false
   },
   "outputs": [
    {
     "data": {
      "application/vnd.plotly.v1+json": {
       "config": {
        "plotlyServerURL": "https://plot.ly"
       },
       "data": [
        {
         "marker": {
          "size": 8
         },
         "mode": "markers",
         "name": "Germany_case",
         "type": "scatter",
         "x": [
          1,
          2,
          3,
          4,
          5,
          6,
          7,
          8,
          9,
          10,
          11,
          12,
          13,
          14,
          15,
          16,
          17,
          18,
          19,
          20,
          21,
          22,
          23,
          24,
          25,
          26,
          27,
          28,
          29,
          30,
          31,
          32,
          33,
          34,
          35,
          36,
          37,
          38,
          39,
          40,
          41,
          42,
          43,
          44,
          45,
          46,
          47,
          48,
          49,
          50,
          51,
          52,
          53,
          54,
          55,
          56,
          57,
          58,
          59,
          60,
          61,
          62,
          63,
          64,
          65
         ],
         "y": [
          21,
          26,
          53,
          66,
          117,
          150,
          188,
          240,
          349,
          534,
          684,
          847,
          1112,
          1296,
          1567,
          2369,
          3062,
          3795,
          4838,
          6012,
          7156,
          8198,
          10999,
          13957,
          16662,
          18610,
          22672,
          27436,
          31554,
          36508,
          42288,
          48582,
          52547,
          57298,
          61913,
          67366,
          73522,
          79696,
          85778,
          91714,
          95391,
          99225,
          103228,
          108202,
          113525,
          117658,
          120479,
          123016,
          125098,
          127584,
          130450,
          133830,
          137439,
          139897,
          141672,
          143457,
          145694,
          148046,
          150383,
          152438,
          154175,
          155193,
          156337,
          157641,
          159119
         ]
        },
        {
         "marker": {
          "size": 8
         },
         "mode": "markers",
         "name": "India_case",
         "type": "scatter",
         "x": [
          1,
          2,
          3,
          4,
          5,
          6,
          7,
          8,
          9,
          10,
          11,
          12,
          13,
          14,
          15,
          16,
          17,
          18,
          19,
          20,
          21,
          22,
          23,
          24,
          25,
          26,
          27,
          28,
          29,
          30,
          31,
          32,
          33,
          34,
          35,
          36,
          37,
          38,
          39,
          40,
          41,
          42,
          43,
          44,
          45,
          46,
          47,
          48,
          49,
          50,
          51,
          52,
          53,
          54,
          55,
          56,
          57,
          58,
          59,
          60,
          61,
          62,
          63,
          64,
          65
         ],
         "y": [
          3,
          3,
          3,
          3,
          3,
          5,
          5,
          28,
          30,
          31,
          34,
          39,
          43,
          56,
          62,
          73,
          82,
          102,
          113,
          119,
          142,
          156,
          194,
          244,
          330,
          396,
          499,
          536,
          657,
          727,
          887,
          987,
          1024,
          1251,
          1397,
          1998,
          2543,
          2567,
          3082,
          3588,
          4778,
          5311,
          5916,
          6725,
          7598,
          8446,
          9205,
          10453,
          11487,
          12322,
          13430,
          14352,
          15722,
          17615,
          18539,
          20080,
          21370,
          23077,
          24530,
          26283,
          27890,
          29451,
          31324,
          33062,
          34863
         ]
        },
        {
         "marker": {
          "size": 8
         },
         "mode": "markers",
         "name": "US_case",
         "type": "scatter",
         "x": [
          1,
          2,
          3,
          4,
          5,
          6,
          7,
          8,
          9,
          10,
          11,
          12,
          13,
          14,
          15,
          16,
          17,
          18,
          19,
          20,
          21,
          22,
          23,
          24,
          25,
          26,
          27,
          28,
          29,
          30,
          31,
          32,
          33,
          34,
          35,
          36,
          37,
          38,
          39,
          40,
          41,
          42,
          43,
          44,
          45,
          46,
          47,
          48,
          49,
          50,
          51,
          52,
          53,
          54,
          55,
          56,
          57,
          58,
          59,
          60,
          61,
          62,
          63,
          64,
          65
         ],
         "y": [
          16,
          17,
          17,
          25,
          32,
          55,
          74,
          107,
          184,
          237,
          403,
          519,
          594,
          782,
          1147,
          1586,
          2219,
          2978,
          3212,
          4679,
          6512,
          9169,
          13663,
          20030,
          26025,
          34944,
          46096,
          56714,
          68841,
          86662,
          105253,
          127417,
          143544,
          165698,
          192079,
          223254,
          255530,
          287931,
          319776,
          349016,
          380798,
          410834,
          441897,
          477507,
          511790,
          540714,
          567022,
          594165,
          622493,
          648390,
          678028,
          711135,
          738464,
          763886,
          793970,
          820045,
          849926,
          881891,
          913856,
          944770,
          970741,
          995391,
          1019964,
          1046816,
          1076518
         ]
        },
        {
         "mode": "lines",
         "name": "Germany_fit",
         "type": "scatter",
         "x": [
          1,
          2,
          3,
          4,
          5,
          6,
          7,
          8,
          9,
          10,
          11,
          12,
          13,
          14,
          15,
          16,
          17,
          18,
          19,
          20,
          21,
          22,
          23,
          24,
          25,
          26,
          27,
          28,
          29,
          30,
          31,
          32,
          33,
          34,
          35,
          36,
          37,
          38,
          39,
          40,
          41,
          42,
          43,
          44,
          45,
          46,
          47,
          48,
          49,
          50,
          51,
          52,
          53,
          54,
          55,
          56,
          57,
          58,
          59,
          60,
          61,
          62,
          63,
          64,
          65
         ],
         "y": [
          21,
          25.4333534156124,
          30.80255906335533,
          37.30513050505514,
          45.18024948801778,
          54.71754742124876,
          66.26773450932127,
          80.25546166541709,
          97.19488427658196,
          117.70848755478578,
          142.54985432814263,
          172.6311916606177,
          209.05659774408036,
          253.1622478884707,
          306.5649148891225,
          371.22050839673693,
          449.49464775404687,
          544.2476566242239,
          658.9368031901754,
          797.739103283771,
          965.698553142511,
          1168.9022600726144,
          1414.6905744922205,
          1711.906935040849,
          2071.1936742012163,
          2505.3404405132105,
          3029.6918741563572,
          3662.620651055765,
          4426.070489764357,
          5346.170758241222,
          6453.919144561705,
          7785.920467063226,
          9385.156742356465,
          11301.744374742017,
          13593.606913694868,
          16326.953242086463,
          19576.400459732326,
          23424.5153411911,
          27960.470724389284,
          33277.42809803527,
          39468.17937047754,
          46618.53469266652,
          54797.97191231005,
          64047.22569007106,
          74362.86674381324,
          85679.5724947215,
          97851.74901657597,
          110637.36017569533,
          123688.02127707744,
          136550.1689467031,
          148681.8408523228,
          159487.72852014806,
          168371.52448799167,
          174799.77078759164,
          178366.8350694229,
          178848.19855224184,
          176230.35921297435,
          170710.63568328557,
          162667.2988836411,
          152607.42162148823,
          141104.08570558482,
          128735.13392691374,
          116032.95772422572,
          103450.4271891143,
          91343.70695471313
         ]
        },
        {
         "mode": "lines",
         "name": "India_fit",
         "type": "scatter",
         "x": [
          1,
          2,
          3,
          4,
          5,
          6,
          7,
          8,
          9,
          10,
          11,
          12,
          13,
          14,
          15,
          16,
          17,
          18,
          19,
          20,
          21,
          22,
          23,
          24,
          25,
          26,
          27,
          28,
          29,
          30,
          31,
          32,
          33,
          34,
          35,
          36,
          37,
          38,
          39,
          40,
          41,
          42,
          43,
          44,
          45,
          46,
          47,
          48,
          49,
          50,
          51,
          52,
          53,
          54,
          55,
          56,
          57,
          58,
          59,
          60,
          61,
          62,
          63,
          64,
          65
         ],
         "y": [
          3,
          3.555477717660697,
          4.213800336318931,
          4.994006460779114,
          5.918657939725144,
          7.014491489797819,
          8.313190526745256,
          9.852299505370722,
          11.676306716344188,
          13.837927059763416,
          16.399620497592753,
          19.435390134395153,
          23.032910534385366,
          27.29604651135201,
          32.34783291888445,
          38.33399930582169,
          45.427136770411764,
          53.831622147577626,
          63.78943398372811,
          75.58701723677535,
          89.5633796687062,
          106.11963207154807,
          125.73021747598594,
          148.95611100288014,
          176.4603113092894,
          209.02598922618213,
          247.57769707814407,
          293.2060900469275,
          347.1966448438934,
          411.0628857868525,
          486.5846362133589,
          575.8517854328871,
          681.3139856772325,
          805.8365425741008,
          952.7625017852965,
          1125.9805216296613,
          1329.997481880734,
          1570.0138802277081,
          1851.998720807479,
          2182.7588151956634,
          2569.9949561821327,
          3022.334209837885,
          3549.3235300397137,
          4161.364919089264,
          4869.566669509036,
          5685.479125063812,
          6620.677783084149,
          7686.1528213618185,
          8891.464564635888,
          10243.63223944252,
          11745.742682659446,
          13395.30095971755,
          15182.399712074262,
          17087.859121003286,
          19081.579216788505,
          21121.43614543614,
          23153.11805994746,
          25111.29853758466,
          26922.44947829495,
          28509.374515695585,
          29797.22210664991,
          30720.34281421749,
          31229.037298360498,
          31295.072622447497,
          30914.95438264881
         ]
        },
        {
         "mode": "lines",
         "name": "US_fit",
         "type": "scatter",
         "x": [
          1,
          2,
          3,
          4,
          5,
          6,
          7,
          8,
          9,
          10,
          11,
          12,
          13,
          14,
          15,
          16,
          17,
          18,
          19,
          20,
          21,
          22,
          23,
          24,
          25,
          26,
          27,
          28,
          29,
          30,
          31,
          32,
          33,
          34,
          35,
          36,
          37,
          38,
          39,
          40,
          41,
          42,
          43,
          44,
          45,
          46,
          47,
          48,
          49,
          50,
          51,
          52,
          53,
          54,
          55,
          56,
          57,
          58,
          59,
          60,
          61,
          62,
          63,
          64,
          65
         ],
         "y": [
          16,
          19.89535086781082,
          24.739050786931045,
          30.76197482429813,
          38.25120254149644,
          47.56369644316747,
          59.143311611083796,
          73.54194241984264,
          91.44581480510871,
          113.70817115970225,
          141.3899043612856,
          175.81006730615755,
          218.60865662581807,
          271.8246432269103,
          337.9929420402103,
          420.26490174671534,
          522.5579861193157,
          649.7416874821665,
          807.8683651618155,
          1004.45977259908,
          1248.862553244668,
          1552.6890487847393,
          1930.3635491715131,
          2399.798595406747,
          2983.2314283798646,
          3708.25713016476,
          4609.1025321096,
          5728.193763233725,
          7118.079927403107,
          8843.786040034322,
          10985.678519084067,
          13642.936154989824,
          16937.724904219045,
          21020.173588510715,
          26074.233013049092,
          32324.46451168349,
          40043.73184727046,
          49561.642324792374,
          61273.373605114066,
          75648.19185980315,
          93236.47432253243,
          114673.3414103453,
          140676.04515567474,
          172031.0436005939,
          209565.30285182327,
          254095.0545366281,
          306344.52375010855,
          366827.9501319379,
          435691.86629786197,
          512522.6825107675,
          596138.2425910871,
          684400.6859559829,
          774107.6724144195,
          861031.2108777486,
          940165.6856425445,
          1006208.9960645565,
          1054232.9055943138,
          1080420.4363967525,
          1082694.2519921977,
          1061064.396819686,
          1017597.5501224634,
          956023.825388789,
          881101.9977808937,
          797915.2456123793,
          711255.04000151
         ]
        }
       ],
       "layout": {
        "height": 800,
        "template": {
         "data": {
          "bar": [
           {
            "error_x": {
             "color": "#2a3f5f"
            },
            "error_y": {
             "color": "#2a3f5f"
            },
            "marker": {
             "line": {
              "color": "#E5ECF6",
              "width": 0.5
             },
             "pattern": {
              "fillmode": "overlay",
              "size": 10,
              "solidity": 0.2
             }
            },
            "type": "bar"
           }
          ],
          "barpolar": [
           {
            "marker": {
             "line": {
              "color": "#E5ECF6",
              "width": 0.5
             },
             "pattern": {
              "fillmode": "overlay",
              "size": 10,
              "solidity": 0.2
             }
            },
            "type": "barpolar"
           }
          ],
          "carpet": [
           {
            "aaxis": {
             "endlinecolor": "#2a3f5f",
             "gridcolor": "white",
             "linecolor": "white",
             "minorgridcolor": "white",
             "startlinecolor": "#2a3f5f"
            },
            "baxis": {
             "endlinecolor": "#2a3f5f",
             "gridcolor": "white",
             "linecolor": "white",
             "minorgridcolor": "white",
             "startlinecolor": "#2a3f5f"
            },
            "type": "carpet"
           }
          ],
          "choropleth": [
           {
            "colorbar": {
             "outlinewidth": 0,
             "ticks": ""
            },
            "type": "choropleth"
           }
          ],
          "contour": [
           {
            "colorbar": {
             "outlinewidth": 0,
             "ticks": ""
            },
            "colorscale": [
             [
              0,
              "#0d0887"
             ],
             [
              0.1111111111111111,
              "#46039f"
             ],
             [
              0.2222222222222222,
              "#7201a8"
             ],
             [
              0.3333333333333333,
              "#9c179e"
             ],
             [
              0.4444444444444444,
              "#bd3786"
             ],
             [
              0.5555555555555556,
              "#d8576b"
             ],
             [
              0.6666666666666666,
              "#ed7953"
             ],
             [
              0.7777777777777778,
              "#fb9f3a"
             ],
             [
              0.8888888888888888,
              "#fdca26"
             ],
             [
              1,
              "#f0f921"
             ]
            ],
            "type": "contour"
           }
          ],
          "contourcarpet": [
           {
            "colorbar": {
             "outlinewidth": 0,
             "ticks": ""
            },
            "type": "contourcarpet"
           }
          ],
          "heatmap": [
           {
            "colorbar": {
             "outlinewidth": 0,
             "ticks": ""
            },
            "colorscale": [
             [
              0,
              "#0d0887"
             ],
             [
              0.1111111111111111,
              "#46039f"
             ],
             [
              0.2222222222222222,
              "#7201a8"
             ],
             [
              0.3333333333333333,
              "#9c179e"
             ],
             [
              0.4444444444444444,
              "#bd3786"
             ],
             [
              0.5555555555555556,
              "#d8576b"
             ],
             [
              0.6666666666666666,
              "#ed7953"
             ],
             [
              0.7777777777777778,
              "#fb9f3a"
             ],
             [
              0.8888888888888888,
              "#fdca26"
             ],
             [
              1,
              "#f0f921"
             ]
            ],
            "type": "heatmap"
           }
          ],
          "heatmapgl": [
           {
            "colorbar": {
             "outlinewidth": 0,
             "ticks": ""
            },
            "colorscale": [
             [
              0,
              "#0d0887"
             ],
             [
              0.1111111111111111,
              "#46039f"
             ],
             [
              0.2222222222222222,
              "#7201a8"
             ],
             [
              0.3333333333333333,
              "#9c179e"
             ],
             [
              0.4444444444444444,
              "#bd3786"
             ],
             [
              0.5555555555555556,
              "#d8576b"
             ],
             [
              0.6666666666666666,
              "#ed7953"
             ],
             [
              0.7777777777777778,
              "#fb9f3a"
             ],
             [
              0.8888888888888888,
              "#fdca26"
             ],
             [
              1,
              "#f0f921"
             ]
            ],
            "type": "heatmapgl"
           }
          ],
          "histogram": [
           {
            "marker": {
             "pattern": {
              "fillmode": "overlay",
              "size": 10,
              "solidity": 0.2
             }
            },
            "type": "histogram"
           }
          ],
          "histogram2d": [
           {
            "colorbar": {
             "outlinewidth": 0,
             "ticks": ""
            },
            "colorscale": [
             [
              0,
              "#0d0887"
             ],
             [
              0.1111111111111111,
              "#46039f"
             ],
             [
              0.2222222222222222,
              "#7201a8"
             ],
             [
              0.3333333333333333,
              "#9c179e"
             ],
             [
              0.4444444444444444,
              "#bd3786"
             ],
             [
              0.5555555555555556,
              "#d8576b"
             ],
             [
              0.6666666666666666,
              "#ed7953"
             ],
             [
              0.7777777777777778,
              "#fb9f3a"
             ],
             [
              0.8888888888888888,
              "#fdca26"
             ],
             [
              1,
              "#f0f921"
             ]
            ],
            "type": "histogram2d"
           }
          ],
          "histogram2dcontour": [
           {
            "colorbar": {
             "outlinewidth": 0,
             "ticks": ""
            },
            "colorscale": [
             [
              0,
              "#0d0887"
             ],
             [
              0.1111111111111111,
              "#46039f"
             ],
             [
              0.2222222222222222,
              "#7201a8"
             ],
             [
              0.3333333333333333,
              "#9c179e"
             ],
             [
              0.4444444444444444,
              "#bd3786"
             ],
             [
              0.5555555555555556,
              "#d8576b"
             ],
             [
              0.6666666666666666,
              "#ed7953"
             ],
             [
              0.7777777777777778,
              "#fb9f3a"
             ],
             [
              0.8888888888888888,
              "#fdca26"
             ],
             [
              1,
              "#f0f921"
             ]
            ],
            "type": "histogram2dcontour"
           }
          ],
          "mesh3d": [
           {
            "colorbar": {
             "outlinewidth": 0,
             "ticks": ""
            },
            "type": "mesh3d"
           }
          ],
          "parcoords": [
           {
            "line": {
             "colorbar": {
              "outlinewidth": 0,
              "ticks": ""
             }
            },
            "type": "parcoords"
           }
          ],
          "pie": [
           {
            "automargin": true,
            "type": "pie"
           }
          ],
          "scatter": [
           {
            "fillpattern": {
             "fillmode": "overlay",
             "size": 10,
             "solidity": 0.2
            },
            "type": "scatter"
           }
          ],
          "scatter3d": [
           {
            "line": {
             "colorbar": {
              "outlinewidth": 0,
              "ticks": ""
             }
            },
            "marker": {
             "colorbar": {
              "outlinewidth": 0,
              "ticks": ""
             }
            },
            "type": "scatter3d"
           }
          ],
          "scattercarpet": [
           {
            "marker": {
             "colorbar": {
              "outlinewidth": 0,
              "ticks": ""
             }
            },
            "type": "scattercarpet"
           }
          ],
          "scattergeo": [
           {
            "marker": {
             "colorbar": {
              "outlinewidth": 0,
              "ticks": ""
             }
            },
            "type": "scattergeo"
           }
          ],
          "scattergl": [
           {
            "marker": {
             "colorbar": {
              "outlinewidth": 0,
              "ticks": ""
             }
            },
            "type": "scattergl"
           }
          ],
          "scattermapbox": [
           {
            "marker": {
             "colorbar": {
              "outlinewidth": 0,
              "ticks": ""
             }
            },
            "type": "scattermapbox"
           }
          ],
          "scatterpolar": [
           {
            "marker": {
             "colorbar": {
              "outlinewidth": 0,
              "ticks": ""
             }
            },
            "type": "scatterpolar"
           }
          ],
          "scatterpolargl": [
           {
            "marker": {
             "colorbar": {
              "outlinewidth": 0,
              "ticks": ""
             }
            },
            "type": "scatterpolargl"
           }
          ],
          "scatterternary": [
           {
            "marker": {
             "colorbar": {
              "outlinewidth": 0,
              "ticks": ""
             }
            },
            "type": "scatterternary"
           }
          ],
          "surface": [
           {
            "colorbar": {
             "outlinewidth": 0,
             "ticks": ""
            },
            "colorscale": [
             [
              0,
              "#0d0887"
             ],
             [
              0.1111111111111111,
              "#46039f"
             ],
             [
              0.2222222222222222,
              "#7201a8"
             ],
             [
              0.3333333333333333,
              "#9c179e"
             ],
             [
              0.4444444444444444,
              "#bd3786"
             ],
             [
              0.5555555555555556,
              "#d8576b"
             ],
             [
              0.6666666666666666,
              "#ed7953"
             ],
             [
              0.7777777777777778,
              "#fb9f3a"
             ],
             [
              0.8888888888888888,
              "#fdca26"
             ],
             [
              1,
              "#f0f921"
             ]
            ],
            "type": "surface"
           }
          ],
          "table": [
           {
            "cells": {
             "fill": {
              "color": "#EBF0F8"
             },
             "line": {
              "color": "white"
             }
            },
            "header": {
             "fill": {
              "color": "#C8D4E3"
             },
             "line": {
              "color": "white"
             }
            },
            "type": "table"
           }
          ]
         },
         "layout": {
          "annotationdefaults": {
           "arrowcolor": "#2a3f5f",
           "arrowhead": 0,
           "arrowwidth": 1
          },
          "autotypenumbers": "strict",
          "coloraxis": {
           "colorbar": {
            "outlinewidth": 0,
            "ticks": ""
           }
          },
          "colorscale": {
           "diverging": [
            [
             0,
             "#8e0152"
            ],
            [
             0.1,
             "#c51b7d"
            ],
            [
             0.2,
             "#de77ae"
            ],
            [
             0.3,
             "#f1b6da"
            ],
            [
             0.4,
             "#fde0ef"
            ],
            [
             0.5,
             "#f7f7f7"
            ],
            [
             0.6,
             "#e6f5d0"
            ],
            [
             0.7,
             "#b8e186"
            ],
            [
             0.8,
             "#7fbc41"
            ],
            [
             0.9,
             "#4d9221"
            ],
            [
             1,
             "#276419"
            ]
           ],
           "sequential": [
            [
             0,
             "#0d0887"
            ],
            [
             0.1111111111111111,
             "#46039f"
            ],
            [
             0.2222222222222222,
             "#7201a8"
            ],
            [
             0.3333333333333333,
             "#9c179e"
            ],
            [
             0.4444444444444444,
             "#bd3786"
            ],
            [
             0.5555555555555556,
             "#d8576b"
            ],
            [
             0.6666666666666666,
             "#ed7953"
            ],
            [
             0.7777777777777778,
             "#fb9f3a"
            ],
            [
             0.8888888888888888,
             "#fdca26"
            ],
            [
             1,
             "#f0f921"
            ]
           ],
           "sequentialminus": [
            [
             0,
             "#0d0887"
            ],
            [
             0.1111111111111111,
             "#46039f"
            ],
            [
             0.2222222222222222,
             "#7201a8"
            ],
            [
             0.3333333333333333,
             "#9c179e"
            ],
            [
             0.4444444444444444,
             "#bd3786"
            ],
            [
             0.5555555555555556,
             "#d8576b"
            ],
            [
             0.6666666666666666,
             "#ed7953"
            ],
            [
             0.7777777777777778,
             "#fb9f3a"
            ],
            [
             0.8888888888888888,
             "#fdca26"
            ],
            [
             1,
             "#f0f921"
            ]
           ]
          },
          "colorway": [
           "#636efa",
           "#EF553B",
           "#00cc96",
           "#ab63fa",
           "#FFA15A",
           "#19d3f3",
           "#FF6692",
           "#B6E880",
           "#FF97FF",
           "#FECB52"
          ],
          "font": {
           "color": "#2a3f5f"
          },
          "geo": {
           "bgcolor": "white",
           "lakecolor": "white",
           "landcolor": "#E5ECF6",
           "showlakes": true,
           "showland": true,
           "subunitcolor": "white"
          },
          "hoverlabel": {
           "align": "left"
          },
          "hovermode": "closest",
          "mapbox": {
           "style": "light"
          },
          "paper_bgcolor": "white",
          "plot_bgcolor": "#E5ECF6",
          "polar": {
           "angularaxis": {
            "gridcolor": "white",
            "linecolor": "white",
            "ticks": ""
           },
           "bgcolor": "#E5ECF6",
           "radialaxis": {
            "gridcolor": "white",
            "linecolor": "white",
            "ticks": ""
           }
          },
          "scene": {
           "xaxis": {
            "backgroundcolor": "#E5ECF6",
            "gridcolor": "white",
            "gridwidth": 2,
            "linecolor": "white",
            "showbackground": true,
            "ticks": "",
            "zerolinecolor": "white"
           },
           "yaxis": {
            "backgroundcolor": "#E5ECF6",
            "gridcolor": "white",
            "gridwidth": 2,
            "linecolor": "white",
            "showbackground": true,
            "ticks": "",
            "zerolinecolor": "white"
           },
           "zaxis": {
            "backgroundcolor": "#E5ECF6",
            "gridcolor": "white",
            "gridwidth": 2,
            "linecolor": "white",
            "showbackground": true,
            "ticks": "",
            "zerolinecolor": "white"
           }
          },
          "shapedefaults": {
           "line": {
            "color": "#2a3f5f"
           }
          },
          "ternary": {
           "aaxis": {
            "gridcolor": "white",
            "linecolor": "white",
            "ticks": ""
           },
           "baxis": {
            "gridcolor": "white",
            "linecolor": "white",
            "ticks": ""
           },
           "bgcolor": "#E5ECF6",
           "caxis": {
            "gridcolor": "white",
            "linecolor": "white",
            "ticks": ""
           }
          },
          "title": {
           "x": 0.05
          },
          "xaxis": {
           "automargin": true,
           "gridcolor": "white",
           "linecolor": "white",
           "ticks": "",
           "title": {
            "standoff": 15
           },
           "zerolinecolor": "white",
           "zerolinewidth": 2
          },
          "yaxis": {
           "automargin": true,
           "gridcolor": "white",
           "linecolor": "white",
           "ticks": "",
           "title": {
            "standoff": 15
           },
           "zerolinecolor": "white",
           "zerolinewidth": 2
          }
         }
        },
        "width": 1000,
        "xaxis": {
         "title": {
          "text": "Days"
         }
        },
        "yaxis": {
         "title": {
          "text": "Covid infections"
         },
         "type": "log"
        }
       }
      }
     },
     "metadata": {},
     "output_type": "display_data"
    }
   ],
   "source": [
    "fig=go.Figure()\n",
    "for each in country:\n",
    "    fig.add_trace(go.Scatter(x=df_plot.day,\n",
    "                             y=df_plot[each+'_case'],\n",
    "                             mode='markers',\n",
    "                             marker_size=8,\n",
    "                             name=each+'_case'\n",
    "                         ))\n",
    "for each in country:\n",
    "    fig.add_trace(go.Scatter(x=df_plot.day,\n",
    "                             y=df_plot[each+'_fit'],\n",
    "                             mode='lines',\n",
    "                             name=each+'_fit'\n",
    "                         ))\n",
    "\n",
    "fig.update_layout(\n",
    "        width=1000,\n",
    "        height=800,\n",
    "        xaxis_title=\"Days\",\n",
    "        yaxis_title=\"Covid infections\",\n",
    ")\n",
    "fig.update_yaxes(type=\"log\")\n",
    "fig.show()"
   ]
  },
  {
   "cell_type": "markdown",
   "id": "0f26b961",
   "metadata": {},
   "source": [
    "# Dash"
   ]
  },
  {
   "cell_type": "code",
   "execution_count": 21,
   "id": "2bebbed1",
   "metadata": {},
   "outputs": [
    {
     "name": "stdout",
     "output_type": "stream",
     "text": [
      "/Users/divyageorge/Desktop/EDS/Covid19_Analysis/notebooks\n",
      "Dash is running on http://127.0.0.1:8051/\n",
      "\n",
      "Dash is running on http://127.0.0.1:8051/\n",
      "\n",
      "Dash is running on http://127.0.0.1:8051/\n",
      "\n",
      " * Serving Flask app '__main__' (lazy loading)\n",
      " * Environment: production\n",
      "\u001b[31m   WARNING: This is a development server. Do not use it in a production deployment.\u001b[0m\n",
      "\u001b[2m   Use a production WSGI server instead.\u001b[0m\n",
      " * Debug mode: on\n"
     ]
    }
   ],
   "source": [
    "import dash\n",
    "dash.__version__\n",
    "import dash_core_components as dcc\n",
    "import dash_html_components as html\n",
    "from dash.dependencies import Input, Output,State\n",
    "\n",
    "import os\n",
    "print(os.getcwd())\n",
    "\n",
    "fig = go.Figure()\n",
    "\n",
    "app = dash.Dash()\n",
    "app.layout = html.Div([\n",
    "\n",
    "    dcc.Markdown('''\n",
    "    #  Applied Data Science on COVID-19 data\n",
    "\n",
    "    Goal of the project is to demonstrate the SIR prediction model for three countries and the reproduction rate,\n",
    "    infection rate and recovery rate for the first few days of the pandemic\n",
    "\n",
    "    '''),\n",
    "\n",
    "    dcc.Markdown('''\n",
    "    ## Multi-Select Country for visualization\n",
    "    '''),\n",
    "    \n",
    "    dcc.Dropdown(\n",
    "        id='country_drop_down',\n",
    "        options=[ {'label': each,'value':each} for each in country],\n",
    "        value=['US', 'Germany','India'], # which are pre-selected\n",
    "        multi=True\n",
    "    ),\n",
    "\n",
    " \n",
    "\n",
    "    dcc.Graph(figure=fig, id='main_window_slope')\n",
    "])\n",
    "\n",
    "\n",
    "\n",
    "@app.callback(\n",
    "    Output('main_window_slope', 'figure'),\n",
    "    [Input('country_drop_down', 'value')])\n",
    "\n",
    "\n",
    "def update_figure(country):\n",
    "\n",
    "\n",
    "    traces = []\n",
    "    for each in country:\n",
    "        traces.append(dict(x=df_plot.day,\n",
    "                                y=df_plot[each+'_case'],\n",
    "                                mode='markers',\n",
    "                                marker_size=8,\n",
    "                                name=each+'_case'\n",
    "                       )\n",
    "                )\n",
    "    \n",
    "    for each in country:\n",
    "        traces.append(dict(x=df_plot.day,\n",
    "                                y=df_plot[each+'_fit'],\n",
    "                                mode='lines',\n",
    "                                name=each+'_fit'\n",
    "                       )\n",
    "                )\n",
    "\n",
    "    return {\n",
    "            'data': traces,\n",
    "            'layout': dict (\n",
    "                width=1280,\n",
    "                height=720,\n",
    "\n",
    "                xaxis={\n",
    "                        'tickangle':-45,\n",
    "                        'nticks':20,\n",
    "                        'tickfont':dict(size=14,color=\"#7f7f7f\"),\n",
    "                      },\n",
    "\n",
    "                yaxis={'type':\"log\",\n",
    "                       'range':'[1.1,5.5]'\n",
    "                      }\n",
    "        )\n",
    "    }\n",
    "\n",
    "if __name__ == '__main__':\n",
    "\n",
    "    app.run_server(debug=True, use_reloader=False, port=8051)"
   ]
  },
  {
   "cell_type": "code",
   "execution_count": null,
   "id": "0c347cc0",
   "metadata": {},
   "outputs": [],
   "source": []
  },
  {
   "cell_type": "code",
   "execution_count": null,
   "id": "df5a3c05",
   "metadata": {},
   "outputs": [],
   "source": []
  },
  {
   "cell_type": "code",
   "execution_count": null,
   "id": "7090b0b0",
   "metadata": {},
   "outputs": [],
   "source": []
  },
  {
   "cell_type": "code",
   "execution_count": null,
   "id": "17d40490",
   "metadata": {},
   "outputs": [],
   "source": []
  }
 ],
 "metadata": {
  "kernelspec": {
   "display_name": "Python 3.10.5 ('dsVenv': venv)",
   "language": "python",
   "name": "python3"
  },
  "language_info": {
   "codemirror_mode": {
    "name": "ipython",
    "version": 3
   },
   "file_extension": ".py",
   "mimetype": "text/x-python",
   "name": "python",
   "nbconvert_exporter": "python",
   "pygments_lexer": "ipython3",
   "version": "3.10.5"
  },
  "vscode": {
   "interpreter": {
    "hash": "c156515b78ff2a89077152d48a43901c44dbc37560ebdd4fb1eae527d69e7402"
   }
  }
 },
 "nbformat": 4,
 "nbformat_minor": 5
}
